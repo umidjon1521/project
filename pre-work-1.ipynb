{
 "cells": [
  {
   "cell_type": "code",
   "execution_count": null,
   "id": "415cd1dd",
   "metadata": {},
   "outputs": [
    {
     "data": {
      "text/plain": [
       "[{2103: 30000},\n",
       " {2103: 40000},\n",
       " {2103: 50000},\n",
       " {2103: 60000},\n",
       " {4001: 60000},\n",
       " {3002: 60000},\n",
       " {4001: 60000},\n",
       " {4001: 60000}]"
      ]
     },
     "execution_count": 25,
     "metadata": {},
     "output_type": "execute_result"
    }
   ],
   "source": [
    "year_codes = [{2103:30000},{2103:40000},{2103:50000},{2103:60000},{4001:60000},{3002:60000},{4001:60000},{4001:60000}]\n",
    "year_codes"
   ]
  },
  {
   "cell_type": "code",
   "execution_count": 26,
   "id": "b1957f02",
   "metadata": {},
   "outputs": [
    {
     "data": {
      "text/html": [
       "<div>\n",
       "<style scoped>\n",
       "    .dataframe tbody tr th:only-of-type {\n",
       "        vertical-align: middle;\n",
       "    }\n",
       "\n",
       "    .dataframe tbody tr th {\n",
       "        vertical-align: top;\n",
       "    }\n",
       "\n",
       "    .dataframe thead th {\n",
       "        text-align: right;\n",
       "    }\n",
       "</style>\n",
       "<table border=\"1\" class=\"dataframe\">\n",
       "  <thead>\n",
       "    <tr style=\"text-align: right;\">\n",
       "      <th></th>\n",
       "      <th>2103</th>\n",
       "      <th>4001</th>\n",
       "      <th>3002</th>\n",
       "    </tr>\n",
       "  </thead>\n",
       "  <tbody>\n",
       "    <tr>\n",
       "      <th>count</th>\n",
       "      <td>4.000000</td>\n",
       "      <td>3.0</td>\n",
       "      <td>1.0</td>\n",
       "    </tr>\n",
       "    <tr>\n",
       "      <th>mean</th>\n",
       "      <td>45000.000000</td>\n",
       "      <td>60000.0</td>\n",
       "      <td>60000.0</td>\n",
       "    </tr>\n",
       "    <tr>\n",
       "      <th>std</th>\n",
       "      <td>12909.944487</td>\n",
       "      <td>0.0</td>\n",
       "      <td>NaN</td>\n",
       "    </tr>\n",
       "    <tr>\n",
       "      <th>min</th>\n",
       "      <td>30000.000000</td>\n",
       "      <td>60000.0</td>\n",
       "      <td>60000.0</td>\n",
       "    </tr>\n",
       "    <tr>\n",
       "      <th>25%</th>\n",
       "      <td>37500.000000</td>\n",
       "      <td>60000.0</td>\n",
       "      <td>60000.0</td>\n",
       "    </tr>\n",
       "    <tr>\n",
       "      <th>50%</th>\n",
       "      <td>45000.000000</td>\n",
       "      <td>60000.0</td>\n",
       "      <td>60000.0</td>\n",
       "    </tr>\n",
       "    <tr>\n",
       "      <th>75%</th>\n",
       "      <td>52500.000000</td>\n",
       "      <td>60000.0</td>\n",
       "      <td>60000.0</td>\n",
       "    </tr>\n",
       "    <tr>\n",
       "      <th>max</th>\n",
       "      <td>60000.000000</td>\n",
       "      <td>60000.0</td>\n",
       "      <td>60000.0</td>\n",
       "    </tr>\n",
       "  </tbody>\n",
       "</table>\n",
       "</div>"
      ],
      "text/plain": [
       "               2103     4001     3002\n",
       "count      4.000000      3.0      1.0\n",
       "mean   45000.000000  60000.0  60000.0\n",
       "std    12909.944487      0.0      NaN\n",
       "min    30000.000000  60000.0  60000.0\n",
       "25%    37500.000000  60000.0  60000.0\n",
       "50%    45000.000000  60000.0  60000.0\n",
       "75%    52500.000000  60000.0  60000.0\n",
       "max    60000.000000  60000.0  60000.0"
      ]
     },
     "execution_count": 26,
     "metadata": {},
     "output_type": "execute_result"
    }
   ],
   "source": [
    "import pandas as pd\n",
    "\n",
    "df = pd.DataFrame(year_codes)\n",
    "df.describe()"
   ]
  },
  {
   "cell_type": "code",
   "execution_count": 1,
   "id": "6484d49f",
   "metadata": {},
   "outputs": [
    {
     "name": "stdout",
     "output_type": "stream",
     "text": [
      "a = 10 (тип: int)\n",
      "b = 3.14 (тип: float)\n",
      "c = 13.14 (тип: float)\n",
      "name = Alice (тип: str)\n",
      "is_active = True (тип: bool)\n",
      "numbers = [1, 2, 3] (тип: list)\n"
     ]
    }
   ],
   "source": [
    "a = 10\n",
    "b = 3.14\n",
    "c = a + b\n",
    "\n",
    "name = \"Alice\"\n",
    "is_active = True\n",
    "numbers = [1, 2, 3]\n",
    "\n",
    "variables = {\n",
    "    \"a\": a,\n",
    "    \"b\": b,\n",
    "    \"c\": c,\n",
    "    \"name\": name,\n",
    "    \"is_active\": is_active,\n",
    "    \"numbers\": numbers\n",
    "}\n",
    "\n",
    "for var_name, value in variables.items():\n",
    "    print(f\"{var_name} = {value} (тип: {type(value).__name__})\")\n"
   ]
  },
  {
   "cell_type": "code",
   "execution_count": null,
   "id": "37c01512",
   "metadata": {},
   "outputs": [],
   "source": []
  }
 ],
 "metadata": {
  "kernelspec": {
   "display_name": "base",
   "language": "python",
   "name": "python3"
  },
  "language_info": {
   "codemirror_mode": {
    "name": "ipython",
    "version": 3
   },
   "file_extension": ".py",
   "mimetype": "text/x-python",
   "name": "python",
   "nbconvert_exporter": "python",
   "pygments_lexer": "ipython3",
   "version": "3.12.7"
  }
 },
 "nbformat": 4,
 "nbformat_minor": 5
}
