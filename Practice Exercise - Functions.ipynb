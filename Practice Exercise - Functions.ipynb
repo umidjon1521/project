{
 "cells": [
  {
   "cell_type": "markdown",
   "metadata": {},
   "source": [
    "# **USER DEFINED FUNCTION AND LAMBDA FUNCTIONS EXERCISE**"
   ]
  },
  {
   "cell_type": "markdown",
   "metadata": {},
   "source": [
    "### 1. Write a function to add, subtract, multiply and divide two variables passed to it and print the result "
   ]
  },
  {
   "cell_type": "code",
   "execution_count": null,
   "metadata": {},
   "outputs": [
    {
     "name": "stdout",
     "output_type": "stream",
     "text": [
      "addition: 15\n",
      "subtraction: 5\n",
      "multiplication 50\n",
      "Division: 2.0\n"
     ]
    }
   ],
   "source": [
    "def calculate(a, b):\n",
    "    print(\"addition:\", a + b)\n",
    "    print(\"subtraction:\", a - b)\n",
    "    print(\"multiplication\", a * b)\n",
    "    \n",
    "    if b != 0:\n",
    "        print(\"Division:\", a/b)\n",
    "    else:\n",
    "        print(\"Division: Cannot divide by zero\")\n",
    "    \n",
    "calculate(10,5)"
   ]
  },
  {
   "cell_type": "markdown",
   "metadata": {},
   "source": [
    "### 2. Write a Python function given range (1,10) both included, that gives the square of every number"
   ]
  },
  {
   "cell_type": "code",
   "execution_count": 39,
   "metadata": {},
   "outputs": [],
   "source": [
    "def print_squares():\n",
    "    for i in range(1,11):\n",
    "        print(f\"The square of {i} is {i ** 2}\")"
   ]
  },
  {
   "cell_type": "markdown",
   "metadata": {},
   "source": [
    "### 3. Write a function to calculate simple interest\n",
    "\n",
    "simple interest = (Principal amount * Annual Rate of interest * Time(in years))/100\n",
    "\n",
    "Take values as follows\n",
    "\n",
    "Principal Amount = 1000\n",
    "\n",
    "Rate of interest = 3%\n",
    "\n",
    "Time = 5 years"
   ]
  },
  {
   "cell_type": "code",
   "execution_count": 69,
   "metadata": {},
   "outputs": [],
   "source": [
    "def calculate_simple_interest():\n",
    "    principal = 1000\n",
    "    rate = 3\n",
    "    time = 5 \n",
    "    \n",
    "    simple_interest = (principal * rate * time)/100\n",
    "    print(\"Simple Interest =\",simple_interest)"
   ]
  },
  {
   "cell_type": "markdown",
   "metadata": {},
   "source": [
    "### 4. Write a function to check the number is divisible by 25. The function should return True if divisible and \"Not divisible\" if not"
   ]
  },
  {
   "cell_type": "code",
   "execution_count": null,
   "metadata": {},
   "outputs": [
    {
     "name": "stdout",
     "output_type": "stream",
     "text": [
      "True\n",
      "Not divisible\n"
     ]
    }
   ],
   "source": [
    "def is_divisible_by_25(number):\n",
    "    if number % 25 == 0:\n",
    "        return True\n",
    "    else:\n",
    "        return \"Not divisible\"\n",
    "\n",
    "print(is_divisible_by_25(100))\n",
    "print(is_divisible_by_25(45))"
   ]
  },
  {
   "cell_type": "markdown",
   "metadata": {},
   "source": [
    "### 5. Define a function that takes an input, squares it, adds 5, then returns the answer"
   ]
  },
  {
   "cell_type": "code",
   "execution_count": 75,
   "metadata": {},
   "outputs": [
    {
     "name": "stdout",
     "output_type": "stream",
     "text": [
      "Result:  86\n"
     ]
    }
   ],
   "source": [
    "def process_number(x):\n",
    "    result = x ** 2 + 5\n",
    "    return result\n",
    "\n",
    "num = int(input(\"Enter a number: \"))\n",
    "\n",
    "answer = process_number(num)\n",
    "print(\"Result: \", answer)"
   ]
  },
  {
   "cell_type": "markdown",
   "metadata": {},
   "source": [
    "### 6. Using lambda function perform the following task : take an input, squares it, add 5, then return the answer"
   ]
  },
  {
   "cell_type": "code",
   "execution_count": 29,
   "metadata": {},
   "outputs": [
    {
     "name": "stdout",
     "output_type": "stream",
     "text": [
      "Result: 5934\n"
     ]
    }
   ],
   "source": [
    "x = lambda a : a * a + 5\n",
    "num = int(input(\"Enter a number: \"))\n",
    "print(\"Result:\", x(num))"
   ]
  },
  {
   "cell_type": "markdown",
   "metadata": {},
   "source": [
    "### 7. Write a function to calculate the power of a number raised to other ($a^b$)"
   ]
  },
  {
   "cell_type": "code",
   "execution_count": 34,
   "metadata": {},
   "outputs": [
    {
     "name": "stdout",
     "output_type": "stream",
     "text": [
      "Result: 9\n"
     ]
    }
   ],
   "source": [
    "x = lambda a, b: a ** b\n",
    "a = int(input(\"Enter a number: \"))\n",
    "b = int(input(\"Enter a number: \"))\n",
    "print(\"Result:\", x(a, b))"
   ]
  },
  {
   "cell_type": "markdown",
   "metadata": {},
   "source": [
    "### 8. Write a function to calculate the area of a triangle\n",
    "\n",
    "area of triangle = 1/2 * base * height"
   ]
  },
  {
   "cell_type": "code",
   "execution_count": 35,
   "metadata": {},
   "outputs": [
    {
     "name": "stdout",
     "output_type": "stream",
     "text": [
      "Area of the triangle:  2613.0\n"
     ]
    }
   ],
   "source": [
    "def triangle_area(base, height):\n",
    "    area = 0.5 * base * height\n",
    "    return area\n",
    "\n",
    "b = float(input(\"Enter the base of the triangle: \"))\n",
    "h = float(input(\"Enter the height of the triangle: \"))\n",
    "print(\"Area of the triangle: \", triangle_area(b, h))"
   ]
  },
  {
   "cell_type": "markdown",
   "metadata": {},
   "source": [
    "### 9. Create a function that takes country as the input and returns \"I am from *Country* \""
   ]
  },
  {
   "cell_type": "code",
   "execution_count": null,
   "metadata": {},
   "outputs": [],
   "source": [
    "# def where_am_i_from(country):\n",
    "#     return \"I am from \" + country\n",
    "\n",
    "\n",
    "# input = \"I am from Uzb\"\n",
    "# print(input)\n",
    "def from_country():\n",
    "     return \"I am from Uzbekistan\"\n",
    "print(from_country())\n",
    "\n"
   ]
  },
  {
   "cell_type": "markdown",
   "metadata": {},
   "source": [
    "### 10. Write a function to convert degree Celsius temperature to Fahrenheit"
   ]
  },
  {
   "cell_type": "code",
   "execution_count": 28,
   "metadata": {},
   "outputs": [
    {
     "name": "stdout",
     "output_type": "stream",
     "text": [
      "Температура в Фаренгейтах: 73.4\n"
     ]
    }
   ],
   "source": [
    "def celsius_to_fahrenheit(celsius):\n",
    "     fahrenheit = (celsius * 9/5) + 32\n",
    "     return fahrenheit\n",
    "\n",
    "celsius_input = float(input(\"Введите тепмепаруту в градусах цельсия: \"))\n",
    "\n",
    "fahrenheit_result = celsius_to_fahrenheit(celsius_input)\n",
    "print(\"Температура в Фаренгейтах:\", fahrenheit_result)"
   ]
  }
 ],
 "metadata": {
  "kernelspec": {
   "display_name": "base",
   "language": "python",
   "name": "python3"
  },
  "language_info": {
   "codemirror_mode": {
    "name": "ipython",
    "version": 3
   },
   "file_extension": ".py",
   "mimetype": "text/x-python",
   "name": "python",
   "nbconvert_exporter": "python",
   "pygments_lexer": "ipython3",
   "version": "3.12.7"
  }
 },
 "nbformat": 4,
 "nbformat_minor": 4
}
