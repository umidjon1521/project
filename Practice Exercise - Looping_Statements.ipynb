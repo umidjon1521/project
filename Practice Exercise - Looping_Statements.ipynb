{
 "cells": [
  {
   "cell_type": "markdown",
   "metadata": {},
   "source": [
    "# **LOOPING STATEMENTS EXERCISE**"
   ]
  },
  {
   "cell_type": "markdown",
   "metadata": {},
   "source": [
    "### 1. Print -10 to -1 using for loop"
   ]
  },
  {
   "cell_type": "code",
   "execution_count": null,
   "metadata": {},
   "outputs": [
    {
     "name": "stdout",
     "output_type": "stream",
     "text": [
      "-10\n",
      "-9\n",
      "-8\n",
      "-7\n",
      "-6\n",
      "-5\n",
      "-4\n",
      "-3\n",
      "-2\n",
      "-1\n"
     ]
    }
   ],
   "source": [
    "for i in range(-10, 0):\n",
    "    print(i)  "
   ]
  },
  {
   "cell_type": "markdown",
   "metadata": {},
   "source": [
    "### 2. Using while loop print numbers 1 to 10"
   ]
  },
  {
   "cell_type": "code",
   "execution_count": null,
   "metadata": {},
   "outputs": [
    {
     "name": "stdout",
     "output_type": "stream",
     "text": [
      "1\n",
      "2\n",
      "3\n",
      "4\n",
      "5\n",
      "6\n",
      "7\n",
      "8\n",
      "9\n",
      "10\n"
     ]
    }
   ],
   "source": [
    "i = 1\n",
    "while i <= 10:\n",
    "    print(i)\n",
    "    i += 1"
   ]
  },
  {
   "cell_type": "markdown",
   "metadata": {},
   "source": [
    "### 3. Using for loop print first ten even numbers"
   ]
  },
  {
   "cell_type": "code",
   "execution_count": null,
   "metadata": {},
   "outputs": [
    {
     "name": "stdout",
     "output_type": "stream",
     "text": [
      "1\n",
      "2\n",
      "3\n",
      "4\n",
      "5\n",
      "6\n",
      "7\n",
      "8\n",
      "9\n",
      "10\n"
     ]
    }
   ],
   "source": [
    "i = 1\n",
    "\n",
    "while i <= 10:\n",
    "    print(i)\n",
    "    i += 1"
   ]
  },
  {
   "cell_type": "markdown",
   "metadata": {},
   "source": [
    "### 4. Using while loop generate the table of 5"
   ]
  },
  {
   "cell_type": "code",
   "execution_count": null,
   "metadata": {},
   "outputs": [
    {
     "name": "stdout",
     "output_type": "stream",
     "text": [
      "5 x 1 = 5\n",
      "5 x 2 = 10\n",
      "5 x 3 = 15\n",
      "5 x 4 = 20\n",
      "5 x 5 = 25\n",
      "5 x 6 = 30\n",
      "5 x 7 = 35\n",
      "5 x 8 = 40\n",
      "5 x 9 = 45\n",
      "5 x 10 = 50\n"
     ]
    }
   ],
   "source": [
    "i = 1\n",
    "\n",
    "while i <= 10:\n",
    "    print(\"5 x\", i, \"=\", 5 * i)\n",
    "    i+=1  "
   ]
  },
  {
   "cell_type": "markdown",
   "metadata": {},
   "source": [
    "### 5. Using for loop generate the table of 8"
   ]
  },
  {
   "cell_type": "code",
   "execution_count": null,
   "metadata": {},
   "outputs": [
    {
     "name": "stdout",
     "output_type": "stream",
     "text": [
      "8 x 1 = 8\n",
      "8 x 2 = 16\n",
      "8 x 3 = 24\n",
      "8 x 4 = 32\n",
      "8 x 5 = 40\n",
      "8 x 6 = 48\n",
      "8 x 7 = 56\n",
      "8 x 8 = 64\n",
      "8 x 9 = 72\n",
      "8 x 10 = 80\n"
     ]
    }
   ],
   "source": [
    "i = 1\n",
    "\n",
    "while i <= 10:\n",
    "    print(\"8 x\", i, \"=\", 8 * i)\n",
    "    i+=1"
   ]
  },
  {
   "cell_type": "markdown",
   "metadata": {},
   "source": [
    "### 6. For numbers 1 to 100, if a number is divisible by 3, then print Fizz.\n",
    "### If a number is divisible by 5, then print Buzz.\n",
    "### If a number is divisible by 3 and 5 both, then print FizzBuzz\n",
    "### If a number is neither divisible by 3 or 5, just print the number.\n",
    "\n",
    "Hint: use range(1,101) function  to generate numbers from 1 to 100"
   ]
  },
  {
   "cell_type": "code",
   "execution_count": null,
   "metadata": {},
   "outputs": [
    {
     "name": "stdout",
     "output_type": "stream",
     "text": [
      "1\n",
      "2\n",
      "Fizz\n",
      "4\n",
      "Buzz\n",
      "Fizz\n",
      "7\n",
      "8\n",
      "Fizz\n",
      "Buzz\n",
      "11\n",
      "Fizz\n",
      "13\n",
      "14\n",
      "FizzBuzz\n",
      "16\n",
      "17\n",
      "Fizz\n",
      "19\n",
      "Buzz\n",
      "Fizz\n",
      "22\n",
      "23\n",
      "Fizz\n",
      "Buzz\n",
      "26\n",
      "Fizz\n",
      "28\n",
      "29\n",
      "FizzBuzz\n",
      "31\n",
      "32\n",
      "Fizz\n",
      "34\n",
      "Buzz\n",
      "Fizz\n",
      "37\n",
      "38\n",
      "Fizz\n",
      "Buzz\n",
      "41\n",
      "Fizz\n",
      "43\n",
      "44\n",
      "FizzBuzz\n",
      "46\n",
      "47\n",
      "Fizz\n",
      "49\n",
      "Buzz\n",
      "Fizz\n",
      "52\n",
      "53\n",
      "Fizz\n",
      "Buzz\n",
      "56\n",
      "Fizz\n",
      "58\n",
      "59\n",
      "FizzBuzz\n",
      "61\n",
      "62\n",
      "Fizz\n",
      "64\n",
      "Buzz\n",
      "Fizz\n",
      "67\n",
      "68\n",
      "Fizz\n",
      "Buzz\n",
      "71\n",
      "Fizz\n",
      "73\n",
      "74\n",
      "FizzBuzz\n",
      "76\n",
      "77\n",
      "Fizz\n",
      "79\n",
      "Buzz\n",
      "Fizz\n",
      "82\n",
      "83\n",
      "Fizz\n",
      "Buzz\n",
      "86\n",
      "Fizz\n",
      "88\n",
      "89\n",
      "FizzBuzz\n",
      "91\n",
      "92\n",
      "Fizz\n",
      "94\n",
      "Buzz\n",
      "Fizz\n",
      "97\n",
      "98\n",
      "Fizz\n",
      "Buzz\n"
     ]
    }
   ],
   "source": [
    "for i in range(1, 101):\n",
    "    if i % 3 == 0 and i % 5 == 0:\n",
    "        print(\"FizzBuzz\")\n",
    "    elif i % 3 == 0:\n",
    "        print(\"Fizz\")\n",
    "    elif i % 5 == 0:\n",
    "        print(\"Buzz\")\n",
    "    else:\n",
    "        print(i)\n",
    "     \n",
    "    \n",
    "    \n",
    "\n",
    "    \n",
    "    \n"
   ]
  },
  {
   "cell_type": "markdown",
   "metadata": {},
   "source": [
    "### 7.  Using the range function find the sum of all numbers from 1 to 100.\n",
    "    For the numbers in the range (1,100):1+2+3+4+5......+100 = 5050"
   ]
  },
  {
   "cell_type": "code",
   "execution_count": null,
   "metadata": {},
   "outputs": [
    {
     "name": "stdout",
     "output_type": "stream",
     "text": [
      "Sum of numbers from 1 to 100 is 1\n",
      "Sum of numbers from 1 to 100 is 3\n",
      "Sum of numbers from 1 to 100 is 6\n",
      "Sum of numbers from 1 to 100 is 10\n",
      "Sum of numbers from 1 to 100 is 15\n",
      "Sum of numbers from 1 to 100 is 21\n",
      "Sum of numbers from 1 to 100 is 28\n",
      "Sum of numbers from 1 to 100 is 36\n",
      "Sum of numbers from 1 to 100 is 45\n",
      "Sum of numbers from 1 to 100 is 55\n",
      "Sum of numbers from 1 to 100 is 66\n",
      "Sum of numbers from 1 to 100 is 78\n",
      "Sum of numbers from 1 to 100 is 91\n",
      "Sum of numbers from 1 to 100 is 105\n",
      "Sum of numbers from 1 to 100 is 120\n",
      "Sum of numbers from 1 to 100 is 136\n",
      "Sum of numbers from 1 to 100 is 153\n",
      "Sum of numbers from 1 to 100 is 171\n",
      "Sum of numbers from 1 to 100 is 190\n",
      "Sum of numbers from 1 to 100 is 210\n",
      "Sum of numbers from 1 to 100 is 231\n",
      "Sum of numbers from 1 to 100 is 253\n",
      "Sum of numbers from 1 to 100 is 276\n",
      "Sum of numbers from 1 to 100 is 300\n",
      "Sum of numbers from 1 to 100 is 325\n",
      "Sum of numbers from 1 to 100 is 351\n",
      "Sum of numbers from 1 to 100 is 378\n",
      "Sum of numbers from 1 to 100 is 406\n",
      "Sum of numbers from 1 to 100 is 435\n",
      "Sum of numbers from 1 to 100 is 465\n",
      "Sum of numbers from 1 to 100 is 496\n",
      "Sum of numbers from 1 to 100 is 528\n",
      "Sum of numbers from 1 to 100 is 561\n",
      "Sum of numbers from 1 to 100 is 595\n",
      "Sum of numbers from 1 to 100 is 630\n",
      "Sum of numbers from 1 to 100 is 666\n",
      "Sum of numbers from 1 to 100 is 703\n",
      "Sum of numbers from 1 to 100 is 741\n",
      "Sum of numbers from 1 to 100 is 780\n",
      "Sum of numbers from 1 to 100 is 820\n",
      "Sum of numbers from 1 to 100 is 861\n",
      "Sum of numbers from 1 to 100 is 903\n",
      "Sum of numbers from 1 to 100 is 946\n",
      "Sum of numbers from 1 to 100 is 990\n",
      "Sum of numbers from 1 to 100 is 1035\n",
      "Sum of numbers from 1 to 100 is 1081\n",
      "Sum of numbers from 1 to 100 is 1128\n",
      "Sum of numbers from 1 to 100 is 1176\n",
      "Sum of numbers from 1 to 100 is 1225\n",
      "Sum of numbers from 1 to 100 is 1275\n",
      "Sum of numbers from 1 to 100 is 1326\n",
      "Sum of numbers from 1 to 100 is 1378\n",
      "Sum of numbers from 1 to 100 is 1431\n",
      "Sum of numbers from 1 to 100 is 1485\n",
      "Sum of numbers from 1 to 100 is 1540\n",
      "Sum of numbers from 1 to 100 is 1596\n",
      "Sum of numbers from 1 to 100 is 1653\n",
      "Sum of numbers from 1 to 100 is 1711\n",
      "Sum of numbers from 1 to 100 is 1770\n",
      "Sum of numbers from 1 to 100 is 1830\n",
      "Sum of numbers from 1 to 100 is 1891\n",
      "Sum of numbers from 1 to 100 is 1953\n",
      "Sum of numbers from 1 to 100 is 2016\n",
      "Sum of numbers from 1 to 100 is 2080\n",
      "Sum of numbers from 1 to 100 is 2145\n",
      "Sum of numbers from 1 to 100 is 2211\n",
      "Sum of numbers from 1 to 100 is 2278\n",
      "Sum of numbers from 1 to 100 is 2346\n",
      "Sum of numbers from 1 to 100 is 2415\n",
      "Sum of numbers from 1 to 100 is 2485\n",
      "Sum of numbers from 1 to 100 is 2556\n",
      "Sum of numbers from 1 to 100 is 2628\n",
      "Sum of numbers from 1 to 100 is 2701\n",
      "Sum of numbers from 1 to 100 is 2775\n",
      "Sum of numbers from 1 to 100 is 2850\n",
      "Sum of numbers from 1 to 100 is 2926\n",
      "Sum of numbers from 1 to 100 is 3003\n",
      "Sum of numbers from 1 to 100 is 3081\n",
      "Sum of numbers from 1 to 100 is 3160\n",
      "Sum of numbers from 1 to 100 is 3240\n",
      "Sum of numbers from 1 to 100 is 3321\n",
      "Sum of numbers from 1 to 100 is 3403\n",
      "Sum of numbers from 1 to 100 is 3486\n",
      "Sum of numbers from 1 to 100 is 3570\n",
      "Sum of numbers from 1 to 100 is 3655\n",
      "Sum of numbers from 1 to 100 is 3741\n",
      "Sum of numbers from 1 to 100 is 3828\n",
      "Sum of numbers from 1 to 100 is 3916\n",
      "Sum of numbers from 1 to 100 is 4005\n",
      "Sum of numbers from 1 to 100 is 4095\n",
      "Sum of numbers from 1 to 100 is 4186\n",
      "Sum of numbers from 1 to 100 is 4278\n",
      "Sum of numbers from 1 to 100 is 4371\n",
      "Sum of numbers from 1 to 100 is 4465\n",
      "Sum of numbers from 1 to 100 is 4560\n",
      "Sum of numbers from 1 to 100 is 4656\n",
      "Sum of numbers from 1 to 100 is 4753\n",
      "Sum of numbers from 1 to 100 is 4851\n",
      "Sum of numbers from 1 to 100 is 4950\n"
     ]
    }
   ],
   "source": [
    "for i in range (1,100):\n",
    "    total = sum(range(1,i+1))\n",
    "    print(f\"Sum of numbers from 1 to {100} is {total}\")"
   ]
  },
  {
   "cell_type": "markdown",
   "metadata": {},
   "source": [
    "### 8. Write a program which will find all such numbers which are divisible by 7 but are not a multiple of 5, between 202 and 320 (both included)."
   ]
  },
  {
   "cell_type": "code",
   "execution_count": 14,
   "metadata": {},
   "outputs": [
    {
     "name": "stdout",
     "output_type": "stream",
     "text": [
      "203\n",
      "217\n",
      "224\n",
      "231\n",
      "238\n",
      "252\n",
      "259\n",
      "266\n",
      "273\n",
      "287\n",
      "294\n",
      "301\n",
      "308\n"
     ]
    }
   ],
   "source": [
    "for i in range(202, 321):\n",
    "    if i % 7 == 0 and i % 5 !=0:\n",
    "       print(i)"
   ]
  },
  {
   "cell_type": "markdown",
   "metadata": {},
   "source": [
    "### 9. Python Program to count the number of vowels in a string.\n",
    "st = \"Data Science\"\n",
    "\n",
    "Output: No of vowels = 5"
   ]
  },
  {
   "cell_type": "code",
   "execution_count": null,
   "metadata": {},
   "outputs": [
    {
     "name": "stdout",
     "output_type": "stream",
     "text": [
      "Number of vowels = 5\n"
     ]
    }
   ],
   "source": [
    "# for i in range(5):\n",
    "#     print(\"Data Science\")\n",
    "\n",
    "st = \"Data Science\"\n",
    "vowels = \"aeiouAEIOU\"\n",
    "count = 0\n",
    "\n",
    "for char in st:\n",
    "    if char in vowels:\n",
    "        count += 1\n",
    "\n",
    "print(\"Number of vowels =\", count)"
   ]
  },
  {
   "cell_type": "markdown",
   "metadata": {},
   "source": [
    "### 10. Print Data Science 5 times using for loop"
   ]
  },
  {
   "cell_type": "code",
   "execution_count": null,
   "metadata": {},
   "outputs": [
    {
     "name": "stdout",
     "output_type": "stream",
     "text": [
      "Data science\n",
      "Data science\n",
      "Data science\n",
      "Data science\n",
      "Data science\n"
     ]
    }
   ],
   "source": [
    "for i in range(5):\n",
    "    print(\"Data science\")"
   ]
  }
 ],
 "metadata": {
  "kernelspec": {
   "display_name": "base",
   "language": "python",
   "name": "python3"
  },
  "language_info": {
   "codemirror_mode": {
    "name": "ipython",
    "version": 3
   },
   "file_extension": ".py",
   "mimetype": "text/x-python",
   "name": "python",
   "nbconvert_exporter": "python",
   "pygments_lexer": "ipython3",
   "version": "3.12.7"
  }
 },
 "nbformat": 4,
 "nbformat_minor": 4
}
