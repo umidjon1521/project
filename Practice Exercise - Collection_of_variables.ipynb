{
 "cells": [
  {
   "cell_type": "markdown",
   "metadata": {},
   "source": [
    "# **COLLECTION OF VARIABLES**"
   ]
  },
  {
   "cell_type": "markdown",
   "metadata": {},
   "source": [
    "### 1. Create a list of repeated element (element 2, 48 times)"
   ]
  },
  {
   "cell_type": "code",
   "execution_count": 2,
   "metadata": {},
   "outputs": [
    {
     "name": "stdout",
     "output_type": "stream",
     "text": [
      "[2, 2, 2, 2, 2, 2, 2, 2, 2, 2, 2, 2, 2, 2, 2, 2, 2, 2, 2, 2, 2, 2, 2, 2, 2, 2, 2, 2, 2, 2, 2, 2, 2, 2, 2, 2, 2, 2, 2, 2, 2, 2, 2, 2, 2, 2, 2, 2]\n"
     ]
    }
   ],
   "source": [
    "my_list = [2] * 48\n",
    "print(my_list)"
   ]
  },
  {
   "cell_type": "markdown",
   "metadata": {},
   "source": [
    "### 2. Print the second element of the list\n",
    "\n",
    "list = [\"apple\",\"orange\",\"grapes\",\"watermelon\"]"
   ]
  },
  {
   "cell_type": "code",
   "execution_count": 1,
   "metadata": {},
   "outputs": [
    {
     "name": "stdout",
     "output_type": "stream",
     "text": [
      "orange\n"
     ]
    }
   ],
   "source": [
    "fruits = [\"apple\",\"orange\",\"grapes\",\"watermelon\"]\n",
    "print(fruits[1])"
   ]
  },
  {
   "cell_type": "markdown",
   "metadata": {},
   "source": [
    "### 3.  Replace the second element of the list with \"strawberries\"\n",
    "list = [\"apple\",\"orange\",\"grapes\",\"watermelon\"]"
   ]
  },
  {
   "cell_type": "code",
   "execution_count": 7,
   "metadata": {},
   "outputs": [
    {
     "name": "stdout",
     "output_type": "stream",
     "text": [
      "['apple', 'strawberries', 'grapes', 'watermelon']\n"
     ]
    }
   ],
   "source": [
    "list = [\"apple\",\"orange\",\"grapes\",\"watermelon\"]\n",
    "list[1] = \"strawberries\"\n",
    "print(list)"
   ]
  },
  {
   "cell_type": "markdown",
   "metadata": {},
   "source": [
    "### 4. Iterate through the list and print the values"
   ]
  },
  {
   "cell_type": "code",
   "execution_count": 11,
   "metadata": {},
   "outputs": [
    {
     "name": "stdout",
     "output_type": "stream",
     "text": [
      "['apple', 'orange', 'grapes', 'watermelon']\n",
      "['apple', 'orange', 'grapes', 'watermelon']\n",
      "['apple', 'orange', 'grapes', 'watermelon']\n",
      "['apple', 'orange', 'grapes', 'watermelon']\n"
     ]
    }
   ],
   "source": [
    "fruits = [\"apple\",\"orange\",\"grapes\",\"watermelon\"]\n",
    "for fruit in fruits:\n",
    "print(fruit)"
   ]
  },
  {
   "cell_type": "markdown",
   "metadata": {},
   "source": [
    "### 5. Write a Python code to print squares of all numbers present in a list = [1, 12, 24, 36, 11, 20,50]"
   ]
  },
  {
   "cell_type": "code",
   "execution_count": 10,
   "metadata": {},
   "outputs": [
    {
     "name": "stdout",
     "output_type": "stream",
     "text": [
      "The square of this list is: [1, 144, 576, 1296, 121, 400, 2500]\n"
     ]
    }
   ],
   "source": [
    "numbers = [1,12,24,36,11,20,50]\n",
    "squares= [ x ** 2 for x in numbers ]\n",
    "print(\"The square of this list is:\", squares)"
   ]
  },
  {
   "cell_type": "markdown",
   "metadata": {},
   "source": [
    "### 6. Pop yellow color from the list below:\n",
    "List=['white','red', 'blue', 'green','blue','yellow', 'black']"
   ]
  },
  {
   "cell_type": "code",
   "execution_count": 15,
   "metadata": {},
   "outputs": [
    {
     "name": "stdout",
     "output_type": "stream",
     "text": [
      "['yellow', 'white', 'red', 'blue', 'green', 'blue', 'black']\n"
     ]
    }
   ],
   "source": [
    "List = ['white', 'red', 'blue', 'green', 'blue', 'yellow', 'black']",
    "List.remove('yellow')" , 
    "print(List)"],
  },
  {
   "cell_type": "markdown",
   "metadata": {},
   "source": [
    "### 7. Check length of list\n",
    "\n",
    "list=[\"a\",\"b\",\"c\",\"d\",\"e\"]"
   ]
  },
  {
   "cell_type": "code",
   "execution_count": 18,
   "metadata": {},
   "outputs": [
    {
     "name": "stdout",
     "output_type": "stream",
     "text": [
      "5\n"
     ]
    }
   ],
   "source": [
    "my_list = [\"a\", \"b\", \"c\", \"d\", \"e\"]\n",
    "length_of_list = len(my_list)\n",
    "print(length_of_list)"
   ]
  },
  {
   "cell_type": "markdown",
   "metadata": {},
   "source": [
    "###  8. Create a dictionary with the following information:\n",
    "\n",
    "brand = Audi\n",
    "\n",
    "Model = Q2\n",
    "\n",
    "Year = 1980"
   ]
  },
  {
   "cell_type": "code",
   "execution_count": 21,
   "metadata": {},
   "outputs": [
    {
     "name": "stdout",
     "output_type": "stream",
     "text": [
      "{'brand': 'Audi', 'model': 'Q2', 'year': 1980}\n"
     ]
    }
   ],
   "source": [
    "thisdict = {\n",
    "    \"brand\": \"Audi\",\n",
    "    \"model\": \"Q2\",\n",
    "    \"year\": 1980\n",
    "}\n",
    "print(thisdict)"
   ]
  },
  {
   "cell_type": "markdown",
   "metadata": {},
   "source": [
    "### 9. In the above dictionary change the year to 2019"
   ]
  },
  {
   "cell_type": "code",
   "execution_count": 12,
   "metadata": {},
   "outputs": [
    {
     "name": "stdout",
     "output_type": "stream",
     "text": [
      "{'brand': 'Audi', 'model': 'Q2', 'year': 2019}\n"
     ]
    }
   ],
   "source": [
    "thisdict = {\n",
    "    \"brand\": \"Audi\",\n",
    "    \"model\": \"Q2\",\n",
    "    \"year\": 1980\n",
    "}\n",
    "\n",
    "thisdict[\"year\"] = 2019\n",
    "print(thisdict)"
   ]
  },
  {
   "cell_type": "markdown",
   "metadata": {},
   "source": [
    "### 10. Create a set of following elements\n",
    "\n",
    "1.0, \"Hello\", 55 , (6,7,8)"
   ]
  },
  {
   "cell_type": "code",
   "execution_count": 23,
   "metadata": {},
   "outputs": [
    {
     "name": "stdout",
     "output_type": "stream",
     "text": [
      "{1.0, 'Hello', (6, 7, 8), 55}\n"
     ]
    }
   ],
   "source": [
    "thisset = {1.0,\"Hello\", 55, (6,7,8)}\n",
    "print(thisset)"
   ]
  }
 ],
 "metadata": {
  "kernelspec": {
   "display_name": "base",
   "language": "python",
   "name": "python3"
  },
  "language_info": {
   "codemirror_mode": {
    "name": "ipython",
    "version": 3
   },
   "file_extension": ".py",
   "mimetype": "text/x-python",
   "name": "python",
   "nbconvert_exporter": "python",
   "pygments_lexer": "ipython3",
   "version": "3.12.7"
  }
 },
 "nbformat": 4,
 "nbformat_minor": 4
}
